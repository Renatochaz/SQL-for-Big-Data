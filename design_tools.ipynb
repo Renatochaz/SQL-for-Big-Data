{
 "cells": [
  {
   "cell_type": "markdown",
   "metadata": {},
   "source": [
    "# Entity-Relationship Diagrams\n",
    "\n",
    "Entity-delantionship Diagrams (ERD) are graphical representations of the relantionship between data tables: What is related in the main database.\n",
    "\n",
    "- Entities (boxes): Categories of unique, but similar measurements (normally tables in the main database)\n",
    "\n",
    "- Atributes (ovals): Represents aspects of the entity which will be recorded (normally columns in the table). Must be unique for that entity (set theory).\n",
    "\n",
    "  - Entity instance: a single occurrence of a entity type (usually a row in a table)\n",
    "  \n",
    "  - Unique attribute: an attribute with a unique value in each entity instance (or keys/identifiers), used to link tables.\n",
    "  \n",
    "- Unique attributes are indicated in the diagram with an underline in the oval.\n",
    "\n",
    "- An entity has to be linked with at least another entity, this link is represented with a diamond shape. The name in the diamond describes the nature of the link.\n",
    "\n",
    "*The diagram shows cardinality constraints, but they wont be covered here since we need a visual representation for a better understading* Please look at: https://www.geeksforgeeks.org/structural-constraints-of-relationships-in-er-model/\n",
    "\n",
    "- Composite attribute: Represented in paranthesis, measurement that can be reconstructed using other entities.\n",
    "\n",
    "- Weak entity: Represented by a double rectangle, has a\n",
    "  - Partial key: Represented by a dashed line, it's a key that isn't unique (on it own, its not a identifier)\n",
    "  \n",
    "  A partial key can become unique in its own weak entity if its connect to a unique key in the entity connected by a diamond.\n",
    "  "
   ]
  },
  {
   "cell_type": "markdown",
   "metadata": {},
   "source": [
    "# Relational schema (RS)\n",
    "\n",
    "Represents what a database trully looks like. Remember that when we talk about RS, we are talking about a plan (the logical ideas) for the database, not the actual database in reality (our goal is to be as accurately as possible to the real one tho).\n",
    "\n",
    "Terminology:\n",
    "\n",
    "A table is called a relation in the RS. (But we will refer as a table here, even though is slightly wrong, but easier to compreehend)\n",
    "\n",
    "Columns in a tables are called attributes (they don't have a particular orderO\n",
    "Rows are called tupples and also don't have a particularly order. (tupples can't be duplicated in theory, but in reality they kinda do)\n",
    "\n",
    "Rows and columns are independent for the set theory to work, and the order they return from a query can't be trusted, its just the fastest way to return (unless you query specify an order).\n",
    "\n",
    "primary key: column or set of columns whose value is unique for every row in the table. only one column per table can have a primary key, and they can't have null values (in practice this can happen, lookout for it).\n",
    "\n",
    "But unique columns can have null values in a table, as long as they aren't the primary key, and they can be used for queries too.\n",
    "\n",
    "Foreign key: Links tables together. If we have table A unique key in table B, this column in table B is a foreign key, and its used to link B to A. Note that foreign keys and unique keys do not have the same name."
   ]
  },
  {
   "cell_type": "markdown",
   "metadata": {},
   "source": [
    "Use https://erdplus.com/ to help creating erd's"
   ]
  },
  {
   "cell_type": "code",
   "execution_count": null,
   "metadata": {},
   "outputs": [],
   "source": []
  }
 ],
 "metadata": {
  "kernelspec": {
   "display_name": "Python 3",
   "language": "python",
   "name": "python3"
  },
  "language_info": {
   "codemirror_mode": {
    "name": "ipython",
    "version": 3
   },
   "file_extension": ".py",
   "mimetype": "text/x-python",
   "name": "python",
   "nbconvert_exporter": "python",
   "pygments_lexer": "ipython3",
   "version": "3.7.4"
  }
 },
 "nbformat": 4,
 "nbformat_minor": 4
}
