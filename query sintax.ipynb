{
 "cells": [
  {
   "cell_type": "markdown",
   "metadata": {},
   "source": [
    "# Query sintax\n",
    "\n",
    "# Data Query Language (DQL)\n",
    "\n",
    "Here we will focus on DQL, since as a data scientist you will likely not be able to change information direct in the database, but will use querys to retrive data in the format you need.\n",
    "\n",
    "- Query: SQL code that describes the data you desire, in one specific format. This code interact with a interface called front-end interface, that interacts with the database.\n",
    "\n",
    "All queries start with the command SELECT (Everything that comes here provides details about what you want to retrieve).\n",
    "\n",
    "The key commands (and the usual order) is as follows:\n",
    "\n",
    "> SELECT *(the data i want)*\n",
    "\n",
    "> FROM *(these dbs and tables)*\n",
    "\n",
    "> WHERE *(these criteria are met, and)*\n",
    "\n",
    "> GROUP (BY) *(this field)*\n",
    "\n",
    "> HAVING *(this property, then)*\n",
    "\n",
    "> ORDER (BY) *(this field or list);*\n",
    "\n",
    "SELECT and FROM are required everytime, but the rest is optional to your context.\n",
    "\n",
    "Note that is a good practice to always end the query with a ;\n",
    "\n",
    "It is good practice to write the commands in caps lock (like SELECT). Functions can be incoporated in queries too, and its algo good practice to write functions in caps lock. \n",
    "\n",
    "columns and table names should be writted in exact the same way the name is set (even if combines upper and lower cases), since some databases are case sensitive.\n",
    "\n",
    "Note that a 0 is different from a NULL."
   ]
  },
  {
   "cell_type": "markdown",
   "metadata": {},
   "source": []
  }
 ],
 "metadata": {
  "kernelspec": {
   "display_name": "Python 3",
   "language": "python",
   "name": "python3"
  },
  "language_info": {
   "codemirror_mode": {
    "name": "ipython",
    "version": 3
   },
   "file_extension": ".py",
   "mimetype": "text/x-python",
   "name": "python",
   "nbconvert_exporter": "python",
   "pygments_lexer": "ipython3",
   "version": "3.7.4"
  }
 },
 "nbformat": 4,
 "nbformat_minor": 4
}
